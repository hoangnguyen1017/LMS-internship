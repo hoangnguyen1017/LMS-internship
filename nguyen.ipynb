{
 "cells": [
  {
   "cell_type": "code",
   "execution_count": 1,
   "metadata": {},
   "outputs": [
    {
     "name": "stdout",
     "output_type": "stream",
     "text": [
      "Accuracy: 86.21%\n",
      "Recommended Course: Sports Analysis Videos, Play Diagrams\n",
      "Courses related to Sports:\n",
      "   Learning Style                           Recommended Course\n",
      "22       Auditory  Sports Commentary, Play-by-Play Discussions\n",
      "23        Logical             Sports Statistics, Game Strategy\n"
     ]
    }
   ],
   "source": [
    "import pandas as pd\n",
    "from sklearn.feature_extraction.text import CountVectorizer\n",
    "from sklearn.naive_bayes import MultinomialNB\n",
    "from sklearn.metrics import accuracy_score\n",
    "\n",
    "# Đọc dữ liệu từ file CSV\n",
    "train_data = pd.read_csv('data.csv')  # Tập dữ liệu huấn luyện\n",
    "test_data = pd.read_csv('testdata.csv')    # Tập dữ liệu kiểm tra\n",
    "\n",
    "# Kiểm tra và chuyển đổi cột thành chuỗi nếu cần\n",
    "train_data['Learning Style'] = train_data['Learning Style'].astype(str)\n",
    "train_data['Interest'] = train_data['Interest'].astype(str)\n",
    "train_data['Recommended Course'] = train_data['Recommended Course'].astype(str)\n",
    "\n",
    "test_data['Learning Style'] = test_data['Learning Style'].astype(str)\n",
    "test_data['Interest'] = test_data['Interest'].astype(str)\n",
    "test_data['Recommended Course'] = test_data['Recommended Course'].astype(str)\n",
    "\n",
    "# Bước 1: Kết hợp Learning Style và Interest trong tập huấn luyện\n",
    "train_data['Combined'] = train_data['Learning Style'] + \" \" + train_data['Interest']\n",
    "\n",
    "# Bước 2: Vectorization\n",
    "vectorizer = CountVectorizer()\n",
    "X_train_vectorized = vectorizer.fit_transform(train_data['Combined'])\n",
    "y_train = train_data['Recommended Course']\n",
    "\n",
    "# Bước 3: Kết hợp Learning Style và Interest trong tập kiểm tra\n",
    "test_data['Combined'] = test_data['Learning Style'] + \" \" + test_data['Interest']\n",
    "X_test_vectorized = vectorizer.transform(test_data['Combined'])\n",
    "y_test = test_data['Recommended Course']\n",
    "\n",
    "# Bước 4: Huấn luyện mô hình\n",
    "model = MultinomialNB()\n",
    "model.fit(X_train_vectorized, y_train)\n",
    "\n",
    "# Bước 5: Dự đoán trên tập kiểm tra\n",
    "y_pred = model.predict(X_test_vectorized)\n",
    "\n",
    "# Bước 6: Tính toán độ chính xác\n",
    "accuracy = accuracy_score(y_test, y_pred)\n",
    "\n",
    "# In ra độ chính xác\n",
    "print(f\"Accuracy: {accuracy * 100:.2f}%\")\n",
    "\n",
    "\n",
    "# Hàm gợi ý khóa học\n",
    "def recommend_course(learning_style, interest):\n",
    "    input_data = vectorizer.transform([learning_style + \" \" + interest])\n",
    "    predicted_course = model.predict(input_data)\n",
    "    return predicted_course[0]\n",
    "\n",
    "# Hàm lấy khóa học liên quan\n",
    "def get_related_courses(interest, recommended_course):\n",
    "    # Lọc các khóa học dựa trên interest\n",
    "    related_courses = train_data[train_data['Interest'] == interest]\n",
    "    # Loại bỏ khóa học đã được gợi ý\n",
    "    related_courses = related_courses[related_courses['Recommended Course'] != recommended_course]\n",
    "    return related_courses[['Learning Style', 'Recommended Course']]\n",
    "\n",
    "# Ví dụ gọi hàm\n",
    "learning_style_input = 'Visual'\n",
    "interest_input = 'Sports'\n",
    "recommended_course = recommend_course(learning_style_input, interest_input)\n",
    "print(f\"Recommended Course: {recommended_course}\")\n",
    "\n",
    "# Lấy và in ra các khóa học liên quan đến interest đã chọn\n",
    "related_courses_df = get_related_courses(interest_input, recommended_course)\n",
    "print(f\"Courses related to {interest_input}:\")\n",
    "print(related_courses_df)\n"
   ]
  }
 ],
 "metadata": {
  "kernelspec": {
   "display_name": "Python 3",
   "language": "python",
   "name": "python3"
  },
  "language_info": {
   "codemirror_mode": {
    "name": "ipython",
    "version": 3
   },
   "file_extension": ".py",
   "mimetype": "text/x-python",
   "name": "python",
   "nbconvert_exporter": "python",
   "pygments_lexer": "ipython3",
   "version": "3.11.8"
  }
 },
 "nbformat": 4,
 "nbformat_minor": 2
}
