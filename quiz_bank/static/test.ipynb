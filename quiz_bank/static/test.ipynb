{
 "cells": [
  {
   "cell_type": "code",
   "execution_count": 1,
   "metadata": {},
   "outputs": [],
   "source": [
    "import pandas as pd\n",
    "import numpy as np\n"
   ]
  },
  {
   "cell_type": "code",
   "execution_count": 3,
   "metadata": {},
   "outputs": [
    {
     "data": {
      "text/html": [
       "<div>\n",
       "<style scoped>\n",
       "    .dataframe tbody tr th:only-of-type {\n",
       "        vertical-align: middle;\n",
       "    }\n",
       "\n",
       "    .dataframe tbody tr th {\n",
       "        vertical-align: top;\n",
       "    }\n",
       "\n",
       "    .dataframe thead th {\n",
       "        text-align: right;\n",
       "    }\n",
       "</style>\n",
       "<table border=\"1\" class=\"dataframe\">\n",
       "  <thead>\n",
       "    <tr style=\"text-align: right;\">\n",
       "      <th></th>\n",
       "      <th>question</th>\n",
       "      <th>points</th>\n",
       "      <th>correct</th>\n",
       "      <th>options[a]</th>\n",
       "      <th>options[b]</th>\n",
       "      <th>options[c]</th>\n",
       "      <th>options[d]</th>\n",
       "      <th>options[e]</th>\n",
       "      <th>options[f]</th>\n",
       "      <th>options[g]</th>\n",
       "    </tr>\n",
       "  </thead>\n",
       "  <tbody>\n",
       "    <tr>\n",
       "      <th>0</th>\n",
       "      <td>Test cases are designed based on</td>\n",
       "      <td>1</td>\n",
       "      <td>c</td>\n",
       "      <td>Software requirement specification</td>\n",
       "      <td>Detail Design document</td>\n",
       "      <td>A &amp; B and test plan document</td>\n",
       "      <td>A &amp; B</td>\n",
       "      <td>NaN</td>\n",
       "      <td>NaN</td>\n",
       "      <td>NaN</td>\n",
       "    </tr>\n",
       "    <tr>\n",
       "      <th>1</th>\n",
       "      <td>A good test document should be</td>\n",
       "      <td>1</td>\n",
       "      <td>c</td>\n",
       "      <td>Follow requirement closely</td>\n",
       "      <td>Easy to maintain and update</td>\n",
       "      <td>A, B and easy for others to understand</td>\n",
       "      <td>A &amp; B</td>\n",
       "      <td>NaN</td>\n",
       "      <td>NaN</td>\n",
       "      <td>NaN</td>\n",
       "    </tr>\n",
       "    <tr>\n",
       "      <th>2</th>\n",
       "      <td>1+1=?</td>\n",
       "      <td>1</td>\n",
       "      <td>a,c</td>\n",
       "      <td>2</td>\n",
       "      <td>3</td>\n",
       "      <td>4 minus 2</td>\n",
       "      <td>5</td>\n",
       "      <td>NaN</td>\n",
       "      <td>NaN</td>\n",
       "      <td>NaN</td>\n",
       "    </tr>\n",
       "    <tr>\n",
       "      <th>3</th>\n",
       "      <td>10*10=?</td>\n",
       "      <td>1</td>\n",
       "      <td>b,c,d</td>\n",
       "      <td>10</td>\n",
       "      <td>100</td>\n",
       "      <td>sqrt(10000)</td>\n",
       "      <td>cube root of 1000000</td>\n",
       "      <td>NaN</td>\n",
       "      <td>NaN</td>\n",
       "      <td>NaN</td>\n",
       "    </tr>\n",
       "  </tbody>\n",
       "</table>\n",
       "</div>"
      ],
      "text/plain": [
       "                           question  points correct  \\\n",
       "0  Test cases are designed based on       1       c   \n",
       "1    A good test document should be       1       c   \n",
       "2                             1+1=?       1     a,c   \n",
       "3                           10*10=?       1   b,c,d   \n",
       "\n",
       "                           options[a]                   options[b]  \\\n",
       "0  Software requirement specification       Detail Design document   \n",
       "1          Follow requirement closely  Easy to maintain and update   \n",
       "2                                   2                            3   \n",
       "3                                  10                          100   \n",
       "\n",
       "                               options[c]            options[d]  options[e]  \\\n",
       "0            A & B and test plan document                 A & B         NaN   \n",
       "1  A, B and easy for others to understand                 A & B         NaN   \n",
       "2                               4 minus 2                     5         NaN   \n",
       "3                             sqrt(10000)  cube root of 1000000         NaN   \n",
       "\n",
       "   options[f]  options[g]  \n",
       "0         NaN         NaN  \n",
       "1         NaN         NaN  \n",
       "2         NaN         NaN  \n",
       "3         NaN         NaN  "
      ]
     },
     "execution_count": 3,
     "metadata": {},
     "output_type": "execute_result"
    }
   ],
   "source": [
    "df = pd.read_excel(r'D:\\lms\\2024_10_29_lms\\LMS-FSA\\quiz_bank\\static\\excel\\MCQ.xlsx')\n",
    "df"
   ]
  },
  {
   "cell_type": "code",
   "execution_count": 4,
   "metadata": {},
   "outputs": [
    {
     "name": "stderr",
     "output_type": "stream",
     "text": [
      "C:\\Users\\ADMIN\\AppData\\Local\\Temp\\ipykernel_2276\\432448108.py:1: FutureWarning: Setting an item of incompatible dtype is deprecated and will raise an error in a future version of pandas. Value '' has dtype incompatible with float64, please explicitly cast to a compatible dtype first.\n",
      "  df.fillna('', inplace=True)\n"
     ]
    },
    {
     "data": {
      "text/html": [
       "<div>\n",
       "<style scoped>\n",
       "    .dataframe tbody tr th:only-of-type {\n",
       "        vertical-align: middle;\n",
       "    }\n",
       "\n",
       "    .dataframe tbody tr th {\n",
       "        vertical-align: top;\n",
       "    }\n",
       "\n",
       "    .dataframe thead th {\n",
       "        text-align: right;\n",
       "    }\n",
       "</style>\n",
       "<table border=\"1\" class=\"dataframe\">\n",
       "  <thead>\n",
       "    <tr style=\"text-align: right;\">\n",
       "      <th></th>\n",
       "      <th>question</th>\n",
       "      <th>points</th>\n",
       "      <th>correct</th>\n",
       "      <th>options[a]</th>\n",
       "      <th>options[b]</th>\n",
       "      <th>options[c]</th>\n",
       "      <th>options[d]</th>\n",
       "      <th>options[e]</th>\n",
       "      <th>options[f]</th>\n",
       "      <th>options[g]</th>\n",
       "    </tr>\n",
       "  </thead>\n",
       "  <tbody>\n",
       "    <tr>\n",
       "      <th>0</th>\n",
       "      <td>Test cases are designed based on</td>\n",
       "      <td>1</td>\n",
       "      <td>c</td>\n",
       "      <td>Software requirement specification</td>\n",
       "      <td>Detail Design document</td>\n",
       "      <td>A &amp; B and test plan document</td>\n",
       "      <td>A &amp; B</td>\n",
       "      <td></td>\n",
       "      <td></td>\n",
       "      <td></td>\n",
       "    </tr>\n",
       "    <tr>\n",
       "      <th>1</th>\n",
       "      <td>A good test document should be</td>\n",
       "      <td>1</td>\n",
       "      <td>c</td>\n",
       "      <td>Follow requirement closely</td>\n",
       "      <td>Easy to maintain and update</td>\n",
       "      <td>A, B and easy for others to understand</td>\n",
       "      <td>A &amp; B</td>\n",
       "      <td></td>\n",
       "      <td></td>\n",
       "      <td></td>\n",
       "    </tr>\n",
       "    <tr>\n",
       "      <th>2</th>\n",
       "      <td>1+1=?</td>\n",
       "      <td>1</td>\n",
       "      <td>a,c</td>\n",
       "      <td>2</td>\n",
       "      <td>3</td>\n",
       "      <td>4 minus 2</td>\n",
       "      <td>5</td>\n",
       "      <td></td>\n",
       "      <td></td>\n",
       "      <td></td>\n",
       "    </tr>\n",
       "    <tr>\n",
       "      <th>3</th>\n",
       "      <td>10*10=?</td>\n",
       "      <td>1</td>\n",
       "      <td>b,c,d</td>\n",
       "      <td>10</td>\n",
       "      <td>100</td>\n",
       "      <td>sqrt(10000)</td>\n",
       "      <td>cube root of 1000000</td>\n",
       "      <td></td>\n",
       "      <td></td>\n",
       "      <td></td>\n",
       "    </tr>\n",
       "  </tbody>\n",
       "</table>\n",
       "</div>"
      ],
      "text/plain": [
       "                           question  points correct  \\\n",
       "0  Test cases are designed based on       1       c   \n",
       "1    A good test document should be       1       c   \n",
       "2                             1+1=?       1     a,c   \n",
       "3                           10*10=?       1   b,c,d   \n",
       "\n",
       "                           options[a]                   options[b]  \\\n",
       "0  Software requirement specification       Detail Design document   \n",
       "1          Follow requirement closely  Easy to maintain and update   \n",
       "2                                   2                            3   \n",
       "3                                  10                          100   \n",
       "\n",
       "                               options[c]            options[d] options[e]  \\\n",
       "0            A & B and test plan document                 A & B              \n",
       "1  A, B and easy for others to understand                 A & B              \n",
       "2                               4 minus 2                     5              \n",
       "3                             sqrt(10000)  cube root of 1000000              \n",
       "\n",
       "  options[f] options[g]  \n",
       "0                        \n",
       "1                        \n",
       "2                        \n",
       "3                        "
      ]
     },
     "execution_count": 4,
     "metadata": {},
     "output_type": "execute_result"
    }
   ],
   "source": [
    "df.fillna('', inplace=True)\n",
    "df"
   ]
  },
  {
   "cell_type": "code",
   "execution_count": 5,
   "metadata": {},
   "outputs": [],
   "source": [
    "for i, (index, row) in enumerate(df.iterrows()):\n",
    "    if index == 8:\n",
    "        options = [f'options[{i}]' for i in ['a', 'b', 'c', 'd', 'e', 'f', 'g']]\n",
    "        question = str(row.get('question')).strip()\n",
    "        answer = pd.DataFrame(row.get(options))\n",
    "        true_answer = str(row.get('correct')).strip()\n",
    "        print(question, true_answer, sep='\\n')\n",
    "        answer = answer.loc[answer[i] != '']\n",
    "        answer_list = answer[i].to_list()\n",
    "        answer_list = list(map(lambda x : x.strip(), answer_list))\n",
    "        # alter_key_list = [(key==true_answer) for key in answer_list]\n",
    "        alter_key_list = list(map(lambda x: x == true_answer, answer_list))\n",
    "        print(answer_list, sep='\\n')\n",
    "        print(alter_key_list)"
   ]
  },
  {
   "cell_type": "code",
   "execution_count": 9,
   "metadata": {},
   "outputs": [
    {
     "name": "stdout",
     "output_type": "stream",
     "text": [
      "['c']\n",
      "Software requirement specification\n",
      " Detail Design document\n",
      "A & B and test plan document\n",
      "A & B\n",
      "['c']\n",
      "Follow requirement closely\n",
      "Easy to maintain and update\n",
      "A, B and easy for others to understand\n",
      "A & B\n",
      "['a', 'c']\n",
      "2\n",
      "3\n",
      "4 minus 2\n",
      "5\n",
      "['b', 'c', 'd']\n",
      "10\n",
      "100\n",
      "sqrt(10000)\n",
      "cube root of 1000000\n"
     ]
    }
   ],
   "source": [
    "for i, (index, row) in enumerate(df.iterrows()):\n",
    "    options = [f'options[{i}]' for i in ['a', 'b', 'c', 'd', 'e', 'f', 'g']]\n",
    "    question = str(row.get('question'))\n",
    "    answer = pd.DataFrame(row.get(options))\n",
    "    true_answer = str(row.get('correct')).split(',')\n",
    "    # print(question, answer, true_answer, sep='\\n')\n",
    "    answer = answer.loc[answer[i] != '']\n",
    "    answer_list = answer[i].to_list()\n",
    "    print(true_answer)\n",
    "    for a in answer_list:\n",
    "        print(a)\n",
    "    # print(answer_list, key_list, sep='\\n')"
   ]
  },
  {
   "cell_type": "code",
   "execution_count": 21,
   "metadata": {},
   "outputs": [
    {
     "name": "stdout",
     "output_type": "stream",
     "text": [
      "Test cases are designed based on\n",
      "['c']\n",
      "['Software requirement specification', ' Detail Design document', 'A & B and test plan document', 'A & B']\n",
      "['A & B and test plan document']\n",
      "1\n",
      "A good test document should be\n",
      "['c']\n",
      "['Follow requirement closely', 'Easy to maintain and update', 'A, B and easy for others to understand', 'A & B']\n",
      "['A, B and easy for others to understand']\n",
      "1\n",
      "1+1=?\n",
      "['a', 'c']\n",
      "[2, 3, '4 minus 2', 5]\n",
      "[2, '4 minus 2']\n",
      "1\n",
      "10*10=?\n",
      "['b', 'c', 'd']\n",
      "[10, 100, 'sqrt(10000)', 'cube root of 1000000']\n",
      "[100, 'sqrt(10000)', 'cube root of 1000000']\n",
      "1\n"
     ]
    }
   ],
   "source": [
    "from_option_to_index = dict(list(zip(['a', 'b', 'c', 'd', 'e', 'f', 'g'], [i for i in range(0, 7)])))\n",
    "for i, (index, row) in enumerate(df.iterrows()):\n",
    "    options = [f'options[{i}]' for i in ['a', 'b', 'c', 'd', 'e', 'f', 'g']]\n",
    "    question = str(row.get('question'))\n",
    "    answer = pd.DataFrame(row.get(options))\n",
    "    points = int(str(row.get('points')).strip())\n",
    "    true_answer = str(row.get('correct')).split(',')\n",
    "    # print(question, answer, true_answer, sep='\\n')\n",
    "    answer = answer.loc[answer[i] != '']\n",
    "    answer_list = answer[i].to_list()\n",
    "    transtated_key = [answer_list[from_option_to_index[option]] for option in true_answer]\n",
    "    print(question)\n",
    "    print(true_answer)\n",
    "    print(answer_list)\n",
    "    print(transtated_key)\n",
    "    print(points)\n",
    "    # print(answer_list, key_list, sep='\\n')"
   ]
  },
  {
   "cell_type": "code",
   "execution_count": 12,
   "metadata": {},
   "outputs": [
    {
     "data": {
      "text/plain": [
       "{1: 'a', 2: 'b', 3: 'c', 4: 'd', 5: 'e', 6: 'f', 7: 'g'}"
      ]
     },
     "execution_count": 12,
     "metadata": {},
     "output_type": "execute_result"
    }
   ],
   "source": [
    "from_option_to_index = dict(enumerate(['a', 'b', 'c', 'd', 'e', 'f', 'g'], start=1))\n",
    "from_option_to_index"
   ]
  },
  {
   "cell_type": "code",
   "execution_count": 17,
   "metadata": {},
   "outputs": [
    {
     "data": {
      "text/plain": [
       "{'a': 1, 'b': 2, 'c': 3, 'd': 4, 'e': 5, 'f': 6, 'g': 7}"
      ]
     },
     "execution_count": 17,
     "metadata": {},
     "output_type": "execute_result"
    }
   ],
   "source": [
    "\n",
    "dict(list(zip(['a', 'b', 'c', 'd', 'e', 'f', 'g'], [i for i in range(1, 8)])))"
   ]
  },
  {
   "cell_type": "code",
   "execution_count": 26,
   "metadata": {},
   "outputs": [
    {
     "name": "stdout",
     "output_type": "stream",
     "text": [
      "['10', '100', 'sqrt(10000)', 'cube root of 1000000']\n",
      "[100, 'sqrt(10000)', 'cube root of 1000000']\n",
      "[False, True, True, True]\n"
     ]
    }
   ],
   "source": [
    "print(answer_list)\n",
    "print(transtated_key)\n",
    "answer_list = [str(item) for item in answer_list]\n",
    "answer_list = list(map(lambda x : x.strip(), answer_list))\n",
    "transtated_key = [str(item) for item in transtated_key]\n",
    "key_list = [i in transtated_key for i in answer_list]\n",
    "print(key_list)"
   ]
  },
  {
   "cell_type": "code",
   "execution_count": 32,
   "metadata": {},
   "outputs": [
    {
     "data": {
      "text/html": [
       "<div>\n",
       "<style scoped>\n",
       "    .dataframe tbody tr th:only-of-type {\n",
       "        vertical-align: middle;\n",
       "    }\n",
       "\n",
       "    .dataframe tbody tr th {\n",
       "        vertical-align: top;\n",
       "    }\n",
       "\n",
       "    .dataframe thead th {\n",
       "        text-align: right;\n",
       "    }\n",
       "</style>\n",
       "<table border=\"1\" class=\"dataframe\">\n",
       "  <thead>\n",
       "    <tr style=\"text-align: right;\">\n",
       "      <th></th>\n",
       "      <th>question</th>\n",
       "      <th>points</th>\n",
       "      <th>correct</th>\n",
       "      <th>options[a]</th>\n",
       "      <th>options[b]</th>\n",
       "    </tr>\n",
       "  </thead>\n",
       "  <tbody>\n",
       "    <tr>\n",
       "      <th>0</th>\n",
       "      <td>1+1=2</td>\n",
       "      <td>1</td>\n",
       "      <td>a</td>\n",
       "      <td>True</td>\n",
       "      <td>False</td>\n",
       "    </tr>\n",
       "    <tr>\n",
       "      <th>1</th>\n",
       "      <td>2+2=5</td>\n",
       "      <td>1</td>\n",
       "      <td>b</td>\n",
       "      <td>True</td>\n",
       "      <td>False</td>\n",
       "    </tr>\n",
       "  </tbody>\n",
       "</table>\n",
       "</div>"
      ],
      "text/plain": [
       "  question  points correct  options[a]  options[b]\n",
       "0    1+1=2       1       a        True       False\n",
       "1    2+2=5       1       b        True       False"
      ]
     },
     "execution_count": 32,
     "metadata": {},
     "output_type": "execute_result"
    }
   ],
   "source": [
    "df = pd.read_excel(r'D:\\lms\\2024_10_29_lms\\LMS-FSA\\quiz_bank\\static\\excel\\TF.xlsx')\n",
    "df"
   ]
  },
  {
   "cell_type": "code",
   "execution_count": 33,
   "metadata": {},
   "outputs": [
    {
     "name": "stdout",
     "output_type": "stream",
     "text": [
      "1+1=2\n",
      "a\n",
      "[True, False]\n",
      "[True]\n",
      "1\n",
      "2+2=5\n",
      "b\n",
      "[True, False]\n",
      "[False]\n",
      "1\n"
     ]
    }
   ],
   "source": [
    "from_option_to_index = dict(list(zip(['a', 'b'], [i for i in range(0, 2)])))\n",
    "for i, (index, row) in enumerate(df.iterrows()):\n",
    "    options = [f'options[{i}]' for i in ['a', 'b']]\n",
    "    question = str(row.get('question'))\n",
    "    answer = pd.DataFrame(row.get(options))\n",
    "    points = int(str(row.get('points')).strip())\n",
    "    true_answer = str(row.get('correct'))\n",
    "    # print(question, answer, true_answer, sep='\\n')\n",
    "    answer = answer.loc[answer[i] != '']\n",
    "    answer_list = answer[i].to_list()\n",
    "    transtated_key = [answer_list[from_option_to_index[option]] for option in true_answer]\n",
    "    print(question)\n",
    "    print(true_answer)\n",
    "    print(answer_list)\n",
    "    print(transtated_key)\n",
    "    print(points)\n",
    "    # print(answer_list, key_list, sep='\\n')"
   ]
  },
  {
   "cell_type": "code",
   "execution_count": 34,
   "metadata": {},
   "outputs": [
    {
     "name": "stdout",
     "output_type": "stream",
     "text": [
      "[True, False]\n",
      "[False]\n",
      "[False, True]\n"
     ]
    }
   ],
   "source": [
    "print(answer_list)\n",
    "print(transtated_key)\n",
    "answer_list = [str(item) for item in answer_list]\n",
    "answer_list = list(map(lambda x : x.strip(), answer_list))\n",
    "transtated_key = [str(item) for item in transtated_key]\n",
    "key_list = [i in transtated_key for i in answer_list]\n",
    "print(key_list)"
   ]
  },
  {
   "cell_type": "code",
   "execution_count": 35,
   "metadata": {},
   "outputs": [
    {
     "data": {
      "text/html": [
       "<div>\n",
       "<style scoped>\n",
       "    .dataframe tbody tr th:only-of-type {\n",
       "        vertical-align: middle;\n",
       "    }\n",
       "\n",
       "    .dataframe tbody tr th {\n",
       "        vertical-align: top;\n",
       "    }\n",
       "\n",
       "    .dataframe thead th {\n",
       "        text-align: right;\n",
       "    }\n",
       "</style>\n",
       "<table border=\"1\" class=\"dataframe\">\n",
       "  <thead>\n",
       "    <tr style=\"text-align: right;\">\n",
       "      <th></th>\n",
       "      <th>question</th>\n",
       "      <th>correct</th>\n",
       "    </tr>\n",
       "  </thead>\n",
       "  <tbody>\n",
       "    <tr>\n",
       "      <th>0</th>\n",
       "      <td>1+1=</td>\n",
       "      <td>2</td>\n",
       "    </tr>\n",
       "    <tr>\n",
       "      <th>1</th>\n",
       "      <td>100/2=</td>\n",
       "      <td>50</td>\n",
       "    </tr>\n",
       "  </tbody>\n",
       "</table>\n",
       "</div>"
      ],
      "text/plain": [
       "  question  correct\n",
       "0     1+1=        2\n",
       "1   100/2=       50"
      ]
     },
     "execution_count": 35,
     "metadata": {},
     "output_type": "execute_result"
    }
   ],
   "source": [
    "df = pd.read_excel(r'D:\\lms\\2024_10_29_lms\\LMS-FSA\\quiz_bank\\static\\excel\\TEXT.xlsx')\n",
    "df"
   ]
  },
  {
   "cell_type": "code",
   "execution_count": 36,
   "metadata": {},
   "outputs": [
    {
     "name": "stdout",
     "output_type": "stream",
     "text": [
      "1+1=\n",
      "2\n",
      "100/2=\n",
      "50\n"
     ]
    }
   ],
   "source": [
    "for i, (index, row) in enumerate(df.iterrows()):\n",
    "    question = str(row.get('question'))\n",
    "    true_answer = str(row.get('correct'))\n",
    "    print(question)\n",
    "    print(true_answer)\n",
    "    "
   ]
  }
 ],
 "metadata": {
  "kernelspec": {
   "display_name": "env3115",
   "language": "python",
   "name": "python3"
  },
  "language_info": {
   "codemirror_mode": {
    "name": "ipython",
    "version": 3
   },
   "file_extension": ".py",
   "mimetype": "text/x-python",
   "name": "python",
   "nbconvert_exporter": "python",
   "pygments_lexer": "ipython3",
   "version": "3.11.5"
  }
 },
 "nbformat": 4,
 "nbformat_minor": 2
}
